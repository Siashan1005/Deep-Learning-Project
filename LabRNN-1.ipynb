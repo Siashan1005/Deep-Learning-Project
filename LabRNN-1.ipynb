{
  "cells": [
    {
      "cell_type": "markdown",
      "metadata": {
        "id": "AhDUFBxt9xZg"
      },
      "source": [
        "# Implement and train a LSTM for sentiment analysis"
      ]
    },
    {
      "cell_type": "markdown",
      "metadata": {
        "id": "gW6ymxu99xZk"
      },
      "source": [
        "## Step 0: set up the environment"
      ]
    },
    {
      "cell_type": "code",
      "execution_count": 1,
      "metadata": {
        "colab": {
          "base_uri": "https://localhost:8080/"
        },
        "id": "Spc_UH4B9xZl",
        "outputId": "17d20f70-dbb2-4e4d-9d84-6f3c0baedf21"
      },
      "outputs": [
        {
          "output_type": "stream",
          "name": "stderr",
          "text": [
            "[nltk_data] Downloading package stopwords to /root/nltk_data...\n",
            "[nltk_data]   Unzipping corpora/stopwords.zip.\n"
          ]
        }
      ],
      "source": [
        "import functools\n",
        "import sys\n",
        "import numpy as np\n",
        "import pandas as pd\n",
        "import random\n",
        "import re\n",
        "import matplotlib.pyplot as plt\n",
        "import tqdm\n",
        "import nltk\n",
        "from sklearn.model_selection import train_test_split\n",
        "from nltk.corpus import stopwords\n",
        "from collections import Counter\n",
        "import torch\n",
        "import torch.nn as nn\n",
        "import torch.optim as optim\n",
        "from torch.utils.data import Dataset\n",
        "\n",
        "nltk.download('stopwords')\n",
        "\n",
        "torch.backends.cudnn.benchmark = True\n",
        "\n",
        "import os\n",
        "os.makedirs(\"resources\", exist_ok=True)"
      ]
    },
    {
      "cell_type": "markdown",
      "metadata": {
        "id": "EEK3DN9Fwh_M"
      },
      "source": [
        "### Hyperparameters. No need to touch."
      ]
    },
    {
      "cell_type": "code",
      "execution_count": 2,
      "metadata": {
        "id": "OxnFjs3f9xZn"
      },
      "outputs": [],
      "source": [
        "class HyperParams:\n",
        "    def __init__(self):\n",
        "        # Constance hyperparameters. They have been tested and don't need to be tuned.\n",
        "        self.PAD_INDEX = 0\n",
        "        self.UNK_INDEX = 1\n",
        "        self.PAD_TOKEN = '<pad>'\n",
        "        self.UNK_TOKEN = '<unk>'\n",
        "        self.STOP_WORDS = set(stopwords.words('english'))\n",
        "        self.MAX_LENGTH = 256\n",
        "        self.BATCH_SIZE = 96\n",
        "        self.EMBEDDING_DIM = 1\n",
        "        self.HIDDEN_DIM = 100\n",
        "        self.OUTPUT_DIM = 2\n",
        "        self.N_LAYERS = 1\n",
        "        self.DROPOUT_RATE = 0.0\n",
        "        self.LR = 0.001\n",
        "        self.N_EPOCHS = 5\n",
        "        self.WD = 0\n",
        "        self.SEED = 12\n",
        "        self.BIDIRECTIONAL = False"
      ]
    },
    {
      "cell_type": "markdown",
      "metadata": {
        "id": "XODz_aDV9xZo"
      },
      "source": [
        "## Lab 1(a) Implement your own data loader function.  \n",
        "First, you need to read the data from the dataset file on the local disk.\n",
        "Then, split the dataset into three sets: train, validation and test by 7:1:2 ratio.\n",
        "Finally return x_train, x_valid, x_test, y_train, y_valid, y_test where x represents reviews and y represent labels.  "
      ]
    },
    {
      "cell_type": "code",
      "execution_count": 4,
      "metadata": {
        "id": "AD7HSvM19xZp"
      },
      "outputs": [],
      "source": [
        "def load_imdb(base_csv:str = './IMDBDataset.csv'):\n",
        "    \"\"\"\n",
        "    Load the IMDB dataset\n",
        "    :param base_csv: the path of the dataset file.\n",
        "    :return: train, validation and test set.\n",
        "    \"\"\"\n",
        "    # Add your code here.\n",
        "def load_imdb(base_csv:str = './IMDBDataset.csv'):\n",
        "    \"\"\"\n",
        "    Load the IMDB dataset\n",
        "    :param base_csv: the path of the dataset file.\n",
        "    :return: train, validation and test set.\n",
        "    \"\"\"\n",
        "    # Add your code here.\n",
        "    df = pd.read_csv(base_csv)\n",
        "\n",
        "    x, y = df[\"review\"].values, df[\"sentiment\"].values\n",
        "\n",
        "    x_train, x_test, y_train, y_test = train_test_split(x, y, test_size=0.2, random_state=100)\n",
        "\n",
        "    x_train, x_valid, y_train, y_valid = train_test_split(x_train, y_train, test_size=0.125, random_state=100)\n",
        "\n",
        "    print(f'shape of train data is {x_train.shape}')\n",
        "    print(f'shape of test data is {x_test.shape}')\n",
        "    print(f'shape of valid data is {x_valid.shape}')\n",
        "    return x_train, x_valid, x_test, y_train, y_valid, y_test\n"
      ]
    },
    {
      "cell_type": "markdown",
      "metadata": {
        "id": "KYVH6t--9xZq"
      },
      "source": [
        "## Lab 1(b): Implement your function to build a vocabulary based on the training corpus.\n",
        "Implement the build_vocab function to build a vocabulary based on the training corpus.\n",
        "You should first compute the frequency of all the words in the training corpus. Remove the words\n",
        "that are in the STOP_WORDS. Then filter the words by their frequency (≥ min_freq) and finally\n",
        "generate a corpus variable that contains a list of words."
      ]
    },
    {
      "cell_type": "code",
      "execution_count": 5,
      "metadata": {
        "id": "sugI5VoJ9xZr"
      },
      "outputs": [],
      "source": [
        "def build_vocab(x_train:list, min_freq: int=5, hparams=None) -> dict:\n",
        "    \"\"\"\n",
        "    build a vocabulary based on the training corpus.\n",
        "    :param x_train:  List. The training corpus. Each sample in the list is a string of text.\n",
        "    :param min_freq: Int. The frequency threshold for selecting words.\n",
        "    :return: dictionary {word:index}\n",
        "    \"\"\"\n",
        "    # Add your code here. Your code should assign corpus with a list of words.\n",
        "    all_words = ' '.join(x_train).split()\n",
        "    all_words = [word.lower() for word in all_words]\n",
        "    all_words = [re.sub(r'[^\\w\\s]', '', word) for word in all_words]\n",
        "\n",
        "    # Remove stop words\n",
        "    all_words_filtered = [word for word in all_words if word not in hparams.STOP_WORDS]\n",
        "\n",
        "    corpus = dict(Counter(all_words_filtered))\n",
        "\n",
        "    corpus_ = [word for word, freq in corpus.items() if freq >= min_freq]\n",
        "\n",
        "    # Create vocabulary dictionary with indexing\n",
        "    vocab = {word: i + 2 for i, word in enumerate(corpus_)}\n",
        "    vocab[hparams.PAD_TOKEN] = hparams.PAD_INDEX\n",
        "    vocab[hparams.UNK_TOKEN] = hparams.UNK_INDEX\n",
        "\n",
        "    return vocab\n"
      ]
    },
    {
      "cell_type": "markdown",
      "metadata": {
        "id": "Ca71G17F9xZt"
      },
      "source": [
        "## Lab 1(c): Implement your tokenize function.\n",
        "For each word, find its index in the vocabulary.\n",
        "Return a list of int that represents the indices of words in the example."
      ]
    },
    {
      "cell_type": "code",
      "execution_count": 6,
      "metadata": {
        "id": "c6kj_qT69xZt"
      },
      "outputs": [],
      "source": [
        "def tokenize(vocab: dict, example: str)-> list:\n",
        "    \"\"\"\n",
        "    Tokenize the give example string into a list of token indices.\n",
        "    :param vocab: dict, the vocabulary.\n",
        "    :param example: a string of text.\n",
        "    :return: a list of token indices.\n",
        "    \"\"\"\n",
        "    # Your code here.\n",
        "    tokens = example.split()\n",
        "    tokens = [re.sub(r'[^\\w\\s]', '', token) for token in tokens]\n",
        "    tokens = [token.lower() for token in tokens]\n",
        "\n",
        "    # Convert tokens to indices using the vocabulary\n",
        "    indices = [vocab.get(token, vocab.get('<unk>')) for token in tokens]\n",
        "\n",
        "    return indices"
      ]
    },
    {
      "cell_type": "markdown",
      "metadata": {
        "id": "e9ntSo4k9xZu"
      },
      "source": [
        "## Lab 1 (d): Implement the __getitem__ function. Given an index i, you should return the i-th review and label.\n",
        "The review is originally a string. Please tokenize it into a sequence of token indices.\n",
        "Use the max_length parameter to truncate the sequence so that it contains at most max_length tokens.\n",
        "Convert the label string ('positive'/'negative') to a binary index. 'positive' is 1 and 'negative' is 0.\n",
        "Return a dictionary containing three keys: 'ids', 'length', 'label' which represent the list of token ids, the length of the sequence, the binary label."
      ]
    },
    {
      "cell_type": "code",
      "execution_count": 7,
      "metadata": {
        "id": "2TDgA4p79xZu"
      },
      "outputs": [],
      "source": [
        "class IMDB(Dataset):\n",
        "    def __init__(self, x, y, vocab, max_length=256) -> None:\n",
        "        \"\"\"\n",
        "        :param x: list of reviews\n",
        "        :param y: list of labels\n",
        "        :param vocab: vocabulary dictionary {word:index}.\n",
        "        :param max_length: the maximum sequence length.\n",
        "        \"\"\"\n",
        "        self.x = x\n",
        "        self.y = y\n",
        "        self.vocab = vocab\n",
        "        self.max_length = max_length\n",
        "\n",
        "    def __getitem__(self, idx: int):\n",
        "        \"\"\"\n",
        "        Return the tokenized review and label by the given index.\n",
        "        :param idx: index of the sample.\n",
        "        :return: a dictionary containing three keys: 'ids', 'length', 'label' which represent the list of token ids, the length of the sequence, the binary label.\n",
        "        \"\"\"\n",
        "        # Add your code here.\n",
        "        label = self.y[idx]\n",
        "        label = 1 if label == 'positive' else 0\n",
        "\n",
        "        review = self.x[idx]\n",
        "        ids = tokenize(self.vocab, review)\n",
        "        if len(ids) > self.max_length:\n",
        "            ids = ids[:self.max_length]\n",
        "        length = len(ids)\n",
        "\n",
        "        return {'ids': ids, 'length': length, 'label': label}\n",
        "\n",
        "\n",
        "    def __len__(self) -> int:\n",
        "        return len(self.x)\n",
        "\n",
        "def collate(batch, pad_index):\n",
        "    batch_ids = [torch.LongTensor(i['ids']) for i in batch]\n",
        "    batch_ids = nn.utils.rnn.pad_sequence(batch_ids, padding_value=pad_index, batch_first=True)\n",
        "    batch_length = torch.Tensor([i['length'] for i in batch])\n",
        "    batch_label = torch.LongTensor([i['label'] for i in batch])\n",
        "    batch = {'ids': batch_ids, 'length': batch_length, 'label': batch_label}\n",
        "    return batch\n",
        "\n",
        "collate_fn = collate"
      ]
    },
    {
      "cell_type": "markdown",
      "metadata": {
        "id": "1zgSPYmf9xZv"
      },
      "source": [
        "## Lab 1 (e): Implement the LSTM model for sentiment analysis.\n",
        "Q(a): Implement the initialization function.\n",
        "Your task is to create the model by stacking several necessary layers including an embedding layer, a lstm cell, a linear layer, and a dropout layer.\n",
        "You can call functions from Pytorch's nn library. For example, nn.Embedding, nn.LSTM, nn.Linear.<br>\n",
        "Q(b): Implement the forward function.\n",
        "    Decide where to apply dropout.\n",
        "    The sequences in the batch have different lengths. Write/call a function to pad the sequences into the same length.\n",
        "    Apply a fully-connected (fc) layer to the output of the LSTM layer.\n",
        "    Return the output features which is of size [batch size, output dim]."
      ]
    },
    {
      "cell_type": "code",
      "execution_count": 8,
      "metadata": {
        "id": "b9ofQ5R29xZv"
      },
      "outputs": [],
      "source": [
        "from torch.nn.utils.rnn import pack_padded_sequence, pad_packed_sequence\n",
        "\n",
        "def init_weights(m):\n",
        "    if isinstance(m, nn.Embedding):\n",
        "        nn.init.xavier_normal_(m.weight)\n",
        "    elif isinstance(m, nn.Linear):\n",
        "        nn.init.xavier_normal_(m.weight)\n",
        "        nn.init.zeros_(m.bias)\n",
        "    elif isinstance(m, nn.LSTM) or isinstance(m, nn.GRU):\n",
        "        for name, param in m.named_parameters():\n",
        "            if 'bias' in name:\n",
        "                nn.init.zeros_(param)\n",
        "            elif 'weight' in name:\n",
        "                nn.init.orthogonal_(param)\n",
        "\n",
        "class LSTM(nn.Module):\n",
        "    def __init__(\n",
        "        self,\n",
        "        vocab_size: int,\n",
        "        embedding_dim: int,\n",
        "        hidden_dim: int,\n",
        "        output_dim: int,\n",
        "        n_layers: int,\n",
        "        dropout_rate: float,\n",
        "        pad_index: int,\n",
        "        bidirectional: bool,\n",
        "        **kwargs):\n",
        "        \"\"\"\n",
        "        Create a LSTM model for classification.\n",
        "        :param vocab_size: size of the vocabulary\n",
        "        :param embedding_dim: dimension of embeddings\n",
        "        :param hidden_dim: dimension of hidden features\n",
        "        :param output_dim: dimension of the output layer which equals to the number of labels.\n",
        "        :param n_layers: number of layers.\n",
        "        :param dropout_rate: dropout rate.\n",
        "        :param pad_index: index of the padding token.we\n",
        "        \"\"\"\n",
        "        super().__init__()\n",
        "        # Add your code here. Initializing each layer by the given arguments. (you can use nn.LSTM, nn.Embedding, nn.Linear, nn.Dropout)\n",
        "        # Initialize embedding layer\n",
        "        self.embedding_layer = nn.Embedding(num_embeddings=vocab_size, embedding_dim=embedding_dim, padding_idx=pad_index)\n",
        "        # Initialize LSTM layer\n",
        "        self.lstm_layer = nn.LSTM(input_size=embedding_dim, hidden_size=hidden_dim, num_layers=n_layers,\n",
        "                                  dropout=dropout_rate, batch_first=True, bidirectional=bidirectional)\n",
        "        # Initialize fully connected layer\n",
        "        self.fc_layer = nn.Linear(in_features=hidden_dim, out_features=output_dim)\n",
        "        # Initialize dropout layer\n",
        "        self.dropout_layer = nn.Dropout(dropout_rate)\n",
        "        # Weight initialization. DO NOT CHANGE!\n",
        "        if \"weight_init_fn\" not in kwargs:\n",
        "            self.apply(init_weights)\n",
        "        else:\n",
        "            self.apply(kwargs[\"weight_init_fn\"])\n",
        "\n",
        "    def forward(self, ids:torch.Tensor, length:torch.Tensor):\n",
        "        \"\"\"\n",
        "        Feed the given token ids to the model.\n",
        "        :param ids: [batch size, seq len] batch of token ids.\n",
        "        :param length: [batch size] batch of length of the token ids.\n",
        "        :return: prediction of size [batch size, output dim].\n",
        "        \"\"\"\n",
        "        # Add your code here.\n",
        "        # Embedding lookup\n",
        "        embedded_tokens = self.embedding_layer(ids)\n",
        "        embedded_tokens = self.dropout_layer(embedded_tokens)\n",
        "        # Pack the sequences for LSTM processing\n",
        "        packed_embedded = pack_padded_sequence(embedded_tokens, length, batch_first=True, enforce_sorted=False)\n",
        "        packed_output, (hidden_state, cell_state) = self.lstm_layer(packed_embedded)\n",
        "        # Unpack the sequences\n",
        "        output, output_lengths = pad_packed_sequence(packed_output, batch_first=True)\n",
        "        # Extract the last hidden state\n",
        "        hidden_representation = self.dropout_layer(hidden_state[-1, :, :])\n",
        "        # Compute the final prediction\n",
        "        prediction = self.fc_layer(hidden_representation)\n",
        "\n",
        "        return prediction"
      ]
    },
    {
      "cell_type": "markdown",
      "metadata": {
        "id": "d-txvtTavBep"
      },
      "source": [
        "## Training Code (do not modify)"
      ]
    },
    {
      "cell_type": "code",
      "execution_count": 9,
      "metadata": {
        "id": "13Sdl7MV9xZv"
      },
      "outputs": [],
      "source": [
        "def count_parameters(model):\n",
        "    return sum(p.numel() for p in model.parameters() if p.requires_grad)\n",
        "\n",
        "\n",
        "def train(dataloader, model, criterion, optimizer, scheduler, device):\n",
        "    model.train()\n",
        "    epoch_losses = []\n",
        "    epoch_accs = []\n",
        "\n",
        "    for batch in tqdm.tqdm(dataloader, desc='training...', file=sys.stdout):\n",
        "        ids = batch['ids'].to(device)\n",
        "        length = batch['length']\n",
        "        label = batch['label'].to(device)\n",
        "        prediction = model(ids, length)\n",
        "        loss = criterion(prediction, label)\n",
        "        accuracy = get_accuracy(prediction, label)\n",
        "        optimizer.zero_grad()\n",
        "        loss.backward()\n",
        "        optimizer.step()\n",
        "        epoch_losses.append(loss.item())\n",
        "        epoch_accs.append(accuracy.item())\n",
        "        scheduler.step()\n",
        "\n",
        "    return epoch_losses, epoch_accs\n",
        "\n",
        "def evaluate(dataloader, model, criterion, device):\n",
        "    model.eval()\n",
        "    epoch_losses = []\n",
        "    epoch_accs = []\n",
        "\n",
        "    with torch.no_grad():\n",
        "        for batch in tqdm.tqdm(dataloader, desc='evaluating...', file=sys.stdout):\n",
        "            ids = batch['ids'].to(device)\n",
        "            length = batch['length']\n",
        "            label = batch['label'].to(device)\n",
        "            prediction = model(ids, length)\n",
        "            loss = criterion(prediction, label)\n",
        "            accuracy = get_accuracy(prediction, label)\n",
        "            epoch_losses.append(loss.item())\n",
        "            epoch_accs.append(accuracy.item())\n",
        "\n",
        "    return epoch_losses, epoch_accs\n",
        "\n",
        "def get_accuracy(prediction, label):\n",
        "    batch_size, _ = prediction.shape\n",
        "    predicted_classes = prediction.argmax(dim=-1)\n",
        "    correct_predictions = predicted_classes.eq(label).sum()\n",
        "    accuracy = correct_predictions / batch_size\n",
        "    return accuracy\n",
        "\n",
        "def predict_sentiment(text, model, vocab, device):\n",
        "    tokens = tokenize(vocab, text)\n",
        "    ids = [vocab[t] if t in vocab else UNK_INDEX for t in tokens]\n",
        "    length = torch.LongTensor([len(ids)])\n",
        "    tensor = torch.LongTensor(ids).unsqueeze(dim=0).to(device)\n",
        "    prediction = model(tensor, length).squeeze(dim=0)\n",
        "    probability = torch.softmax(prediction, dim=-1)\n",
        "    predicted_class = prediction.argmax(dim=-1).item()\n",
        "    predicted_probability = probability[predicted_class].item()\n",
        "    return predicted_class, predicted_probability"
      ]
    },
    {
      "cell_type": "markdown",
      "metadata": {
        "id": "OnLooBJ4wh_P"
      },
      "source": [
        "### Learning rate warmup. DO NOT TOUCH!"
      ]
    },
    {
      "cell_type": "code",
      "execution_count": 10,
      "metadata": {
        "id": "9rHTjuZpwh_P"
      },
      "outputs": [],
      "source": [
        "class ConstantWithWarmup(torch.optim.lr_scheduler._LRScheduler):\n",
        "    def __init__(\n",
        "        self,\n",
        "        optimizer,\n",
        "        num_warmup_steps: int,\n",
        "    ):\n",
        "        self.num_warmup_steps = num_warmup_steps\n",
        "        super().__init__(optimizer)\n",
        "\n",
        "    def get_lr(self):\n",
        "        if self._step_count <= self.num_warmup_steps:\n",
        "            # warmup\n",
        "            scale = 1.0 - (self.num_warmup_steps - self._step_count) / self.num_warmup_steps\n",
        "            lr = [base_lr * scale for base_lr in self.base_lrs]\n",
        "            self.last_lr = lr\n",
        "        else:\n",
        "            lr = self.base_lrs\n",
        "        return lr"
      ]
    },
    {
      "cell_type": "markdown",
      "metadata": {
        "id": "teBvNRJWwh_P"
      },
      "source": [
        "### Implement the training / validation iteration here."
      ]
    },
    {
      "cell_type": "code",
      "source": [
        "import torch.nn.functional as F\n",
        "import random"
      ],
      "metadata": {
        "id": "75Y4Ld7Zv68Y"
      },
      "execution_count": 11,
      "outputs": []
    },
    {
      "cell_type": "code",
      "execution_count": 29,
      "metadata": {
        "id": "qXLkQSnS9xZw"
      },
      "outputs": [],
      "source": [
        "def train_and_test_model_with_hparams(hparams, model_type=\"lstm\", **kwargs):\n",
        "    # Seeding. DO NOT TOUCH! DO NOT TOUCH hparams.SEED!\n",
        "    # Set the random seeds.\n",
        "    torch.manual_seed(hparams.SEED)\n",
        "    random.seed(hparams.SEED)\n",
        "    np.random.seed(hparams.SEED)\n",
        "\n",
        "    x_train, x_valid, x_test, y_train, y_valid, y_test = load_imdb()\n",
        "    vocab = build_vocab(x_train, hparams=hparams)\n",
        "    vocab_size = len(vocab)\n",
        "    print(f'Length of vocabulary is {vocab_size}')\n",
        "\n",
        "    train_data = IMDB(x_train, y_train, vocab, hparams.MAX_LENGTH)\n",
        "    valid_data = IMDB(x_valid, y_valid, vocab, hparams.MAX_LENGTH)\n",
        "    test_data = IMDB(x_test, y_test, vocab, hparams.MAX_LENGTH)\n",
        "\n",
        "    collate = functools.partial(collate_fn, pad_index=hparams.PAD_INDEX)\n",
        "\n",
        "    train_dataloader = torch.utils.data.DataLoader(\n",
        "        train_data, batch_size=hparams.BATCH_SIZE, collate_fn=collate, shuffle=True)\n",
        "    valid_dataloader = torch.utils.data.DataLoader(\n",
        "        valid_data, batch_size=hparams.BATCH_SIZE, collate_fn=collate)\n",
        "    test_dataloader = torch.utils.data.DataLoader(\n",
        "        test_data, batch_size=hparams.BATCH_SIZE, collate_fn=collate)\n",
        "\n",
        "    # Model\n",
        "\n",
        "    model = LSTM(\n",
        "            vocab_size,\n",
        "            hparams.EMBEDDING_DIM,\n",
        "            hparams.HIDDEN_DIM,\n",
        "            hparams.OUTPUT_DIM,\n",
        "            hparams.N_LAYERS,\n",
        "            hparams.DROPOUT_RATE,\n",
        "            hparams.PAD_INDEX,\n",
        "            hparams.BIDIRECTIONAL,\n",
        "            **kwargs)\n",
        "\n",
        "    num_params = count_parameters(model)\n",
        "    print(f'The model has {num_params:,} trainable parameters')\n",
        "\n",
        "\n",
        "    device = torch.device('cuda' if torch.cuda.is_available() else 'cpu')\n",
        "    model = model.to(device)\n",
        "\n",
        "    # DO NOT TOUCH optimizer-specific hyperparameters! (e.g., eps, momentum)\n",
        "    # DO NOT change optimizer implementations!\n",
        "\n",
        "    optimizer = optim.Adam(model.parameters(), lr=hparams.LR, weight_decay=hparams.WD, eps=1e-6)\n",
        "\n",
        "\n",
        "    criterion = nn.CrossEntropyLoss()\n",
        "    criterion = criterion.to(device)\n",
        "\n",
        "    # Start training\n",
        "    best_valid_loss = float('inf')\n",
        "\n",
        "    # Warmup Scheduler. DO NOT TOUCH!\n",
        "    WARMUP_STEPS = 200\n",
        "    lr_scheduler = ConstantWithWarmup(optimizer, WARMUP_STEPS)\n",
        "\n",
        "    for epoch in range(hparams.N_EPOCHS):\n",
        "\n",
        "        # Your code: implement the training process and save the best model.\n",
        "        # Train the model for one epoch\n",
        "        train_loss, train_acc = train(\n",
        "            dataloader=train_dataloader,\n",
        "            model=model,\n",
        "            criterion=criterion,\n",
        "            optimizer=optimizer,\n",
        "            scheduler=lr_scheduler,\n",
        "            device=device\n",
        "        )\n",
        "\n",
        "        # Evaluate the model on the validation set\n",
        "        valid_loss, valid_acc = evaluate(\n",
        "            dataloader=valid_dataloader,\n",
        "            model=model,\n",
        "            criterion=criterion,\n",
        "            device=device\n",
        "        )\n",
        "\n",
        "        epoch_train_loss = np.mean(train_loss)\n",
        "        epoch_train_acc = np.mean(train_acc)\n",
        "        epoch_valid_loss = np.mean(valid_loss)\n",
        "        epoch_valid_acc = np.mean(valid_acc)\n",
        "\n",
        "        # Save the model that achieves the smallest validation loss.\n",
        "        if epoch_valid_loss < best_valid_loss:\n",
        "            # Your code: save the best model somewhere (no need to submit it to Sakai)\n",
        "            best_valid_loss = epoch_valid_loss\n",
        "            model_save_path = f'best_{model_type}.pt'\n",
        "            torch.save(model.state_dict(), model_save_path)\n",
        "\n",
        "\n",
        "        print(f'epoch: {epoch+1}')\n",
        "        print(f'train_loss: {epoch_train_loss:.3f}, train_acc: {epoch_train_acc:.3f}')\n",
        "        print(f'valid_loss: {epoch_valid_loss:.3f}, valid_acc: {epoch_valid_acc:.3f}')\n",
        "\n",
        "\n",
        "        # Your Code: Load the best model's weights.\n",
        "        model_save_path = f'best_{model_type}.pt'\n",
        "        model.load_state_dict(torch.load(model_save_path))\n",
        "\n",
        "\n",
        "        # Your Code: evaluate test loss on testing dataset (NOT Validation)\n",
        "        test_loss, test_acc = evaluate(\n",
        "        dataloader=test_dataloader,\n",
        "        model=model,\n",
        "        criterion=criterion,\n",
        "        device=device)\n",
        "\n",
        "\n",
        "        epoch_test_loss = np.mean(test_loss)\n",
        "        epoch_test_acc = np.mean(test_acc)\n",
        "        print(f'test_loss: {epoch_test_loss:.3f}, test_acc: {epoch_test_acc:.3f}')\n",
        "\n",
        "        # Your Code: select one of the entries in test set and predict its sentiment, print out the text, prediction and the probability.\n",
        "        sample = test_data[0]\n",
        "\n",
        "        sample_text_ids = sample['ids']\n",
        "        sample_length = sample['length']\n",
        "        sample_label = sample['label']\n",
        "\n",
        "        sample_ids_tensor = torch.LongTensor(sample_text_ids).unsqueeze(0).to(device)\n",
        "        sample_length_tensor = torch.tensor([sample_length], dtype=torch.int64).cpu()\n",
        "\n",
        "        model.eval()\n",
        "        with torch.no_grad():\n",
        "             logits = model(sample_ids_tensor, sample_length_tensor)\n",
        "             probabilities = F.softmax(logits, dim=-1)\n",
        "             prediction_idx = torch.argmax(probabilities, dim=-1).item()\n",
        "             confidence = probabilities[0][prediction_idx].item()\n",
        "\n",
        "        predicted_sentiment = \"positive\" if prediction_idx == 1 else \"negative\"\n",
        "        actual_sentiment = \"positive\" if sample_label == 1 else \"negative\"\n",
        "\n",
        "        print(\"\\n===== First Test Sample Prediction =====\")\n",
        "        print(f\"Actual Sentiment: {actual_sentiment}\")\n",
        "        print(f\"Predicted Sentiment: {predicted_sentiment}\")\n",
        "        print(f\"Confidence: {confidence:.3f}\")\n",
        "\n",
        "        if hasattr(hparams, \"id2word\"):\n",
        "            sample_text = ' '.join([hparams.id2word[idx] for idx in sample_text_ids if idx in hparams.id2word])\n",
        "        else:\n",
        "            sample_text = \" \".join(map(str, sample_text_ids))\n",
        "\n",
        "        print(f\"Text: {sample_text}\")\n",
        "\n",
        "    # Free memory for later usage.\n",
        "    del model\n",
        "    torch.cuda.empty_cache()\n",
        "    return {\n",
        "           'num_params': num_params,\n",
        "           \"test_loss\": epoch_test_loss,\n",
        "           \"test_acc\": epoch_test_acc,\n",
        "    }\n"
      ]
    },
    {
      "cell_type": "markdown",
      "metadata": {
        "id": "VKCu4rPBA2Sp"
      },
      "source": [
        "### Lab 1 (f): Train LSTM model .\n",
        "\n",
        "Train the model with default hyperparameter settings."
      ]
    },
    {
      "cell_type": "code",
      "source": [
        "import pandas as pd\n",
        "\n",
        "try:\n",
        "    # Assuming you are reading a CSV file\n",
        "    data = pd.read_csv('IMDBDataset.csv', on_bad_lines='skip')\n",
        "except pd.errors.ParserError as e:\n",
        "    print(f\"ParserError: {e}\")\n",
        "    # Handle the error or log it as needed"
      ],
      "metadata": {
        "id": "7v9WU9yc3c5L"
      },
      "execution_count": 30,
      "outputs": []
    },
    {
      "cell_type": "code",
      "execution_count": 31,
      "metadata": {
        "colab": {
          "base_uri": "https://localhost:8080/"
        },
        "id": "YzatRvfMwh_Q",
        "outputId": "73161691-a5f9-44ce-8bb8-8fa49af3d58b"
      },
      "outputs": [
        {
          "output_type": "stream",
          "name": "stdout",
          "text": [
            "shape of train data is (35000,)\n",
            "shape of test data is (10000,)\n",
            "shape of valid data is (5000,)\n",
            "Length of vocabulary is 37977\n",
            "The model has 79,379 trainable parameters\n",
            "training...: 100%|██████████| 365/365 [00:15<00:00, 24.15it/s]\n",
            "evaluating...: 100%|██████████| 53/53 [00:01<00:00, 32.66it/s]"
          ]
        },
        {
          "output_type": "stream",
          "name": "stderr",
          "text": [
            "<ipython-input-29-e4165959ec14>:103: FutureWarning: You are using `torch.load` with `weights_only=False` (the current default value), which uses the default pickle module implicitly. It is possible to construct malicious pickle data which will execute arbitrary code during unpickling (See https://github.com/pytorch/pytorch/blob/main/SECURITY.md#untrusted-models for more details). In a future release, the default value for `weights_only` will be flipped to `True`. This limits the functions that could be executed during unpickling. Arbitrary objects will no longer be allowed to be loaded via this mode unless they are explicitly allowlisted by the user via `torch.serialization.add_safe_globals`. We recommend you start setting `weights_only=True` for any use case where you don't have full control of the loaded file. Please open an issue on GitHub for any issues related to this experimental feature.\n",
            "  model.load_state_dict(torch.load(model_save_path))\n"
          ]
        },
        {
          "output_type": "stream",
          "name": "stdout",
          "text": [
            "\n",
            "epoch: 1\n",
            "train_loss: 0.676, train_acc: 0.562\n",
            "valid_loss: 0.645, valid_acc: 0.642\n",
            "evaluating...: 100%|██████████| 105/105 [00:03<00:00, 32.34it/s]\n",
            "test_loss: 0.643, test_acc: 0.644\n",
            "\n",
            "===== First Test Sample Prediction =====\n",
            "Actual Sentiment: negative\n",
            "Predicted Sentiment: negative\n",
            "Confidence: 0.530\n",
            "Text: 1 1 1 689 1 11169 111 1 1 612 1 1 288 1 1 10449 1 111 1 1 9610 9264 110 1 707 1 6201 19952 110 1 1 1 4620 1 1 1 1 7067 1 15 1 462 1 1 1 111 10210 1 1 612 1 1 1 363 4052 1 14647 1 1 125 1 918 1 1936 478 1 3366 1 748 1 1 1346 1 1 1667 1 1 111 1 1122 1 1 55 1 818 1 1 1 271 1 1 1109 1 2073 1 1 18 1 1 1 1 25087 15 1 20 1 1 1 245 1 1 14 1 1 1 1 600 442 2702\n",
            "training...: 100%|██████████| 365/365 [00:15<00:00, 24.20it/s]\n",
            "evaluating...: 100%|██████████| 53/53 [00:01<00:00, 30.85it/s]\n",
            "epoch: 2\n",
            "train_loss: 0.420, train_acc: 0.816\n",
            "valid_loss: 0.360, valid_acc: 0.862\n",
            "evaluating...: 100%|██████████| 105/105 [00:03<00:00, 32.32it/s]\n",
            "test_loss: 0.347, test_acc: 0.864\n",
            "\n",
            "===== First Test Sample Prediction =====\n",
            "Actual Sentiment: negative\n",
            "Predicted Sentiment: negative\n",
            "Confidence: 0.965\n",
            "Text: 1 1 1 689 1 11169 111 1 1 612 1 1 288 1 1 10449 1 111 1 1 9610 9264 110 1 707 1 6201 19952 110 1 1 1 4620 1 1 1 1 7067 1 15 1 462 1 1 1 111 10210 1 1 612 1 1 1 363 4052 1 14647 1 1 125 1 918 1 1936 478 1 3366 1 748 1 1 1346 1 1 1667 1 1 111 1 1122 1 1 55 1 818 1 1 1 271 1 1 1109 1 2073 1 1 18 1 1 1 1 25087 15 1 20 1 1 1 245 1 1 14 1 1 1 1 600 442 2702\n",
            "training...: 100%|██████████| 365/365 [00:14<00:00, 24.40it/s]\n",
            "evaluating...: 100%|██████████| 53/53 [00:01<00:00, 33.05it/s]\n",
            "epoch: 3\n",
            "train_loss: 0.300, train_acc: 0.879\n",
            "valid_loss: 0.424, valid_acc: 0.844\n",
            "evaluating...: 100%|██████████| 105/105 [00:03<00:00, 32.06it/s]\n",
            "test_loss: 0.347, test_acc: 0.864\n",
            "\n",
            "===== First Test Sample Prediction =====\n",
            "Actual Sentiment: negative\n",
            "Predicted Sentiment: negative\n",
            "Confidence: 0.965\n",
            "Text: 1 1 1 689 1 11169 111 1 1 612 1 1 288 1 1 10449 1 111 1 1 9610 9264 110 1 707 1 6201 19952 110 1 1 1 4620 1 1 1 1 7067 1 15 1 462 1 1 1 111 10210 1 1 612 1 1 1 363 4052 1 14647 1 1 125 1 918 1 1936 478 1 3366 1 748 1 1 1346 1 1 1667 1 1 111 1 1122 1 1 55 1 818 1 1 1 271 1 1 1109 1 2073 1 1 18 1 1 1 1 25087 15 1 20 1 1 1 245 1 1 14 1 1 1 1 600 442 2702\n",
            "training...: 100%|██████████| 365/365 [00:15<00:00, 23.93it/s]\n",
            "evaluating...: 100%|██████████| 53/53 [00:01<00:00, 32.94it/s]\n",
            "epoch: 4\n",
            "train_loss: 0.259, train_acc: 0.900\n",
            "valid_loss: 0.345, valid_acc: 0.861\n",
            "evaluating...: 100%|██████████| 105/105 [00:03<00:00, 32.44it/s]\n",
            "test_loss: 0.336, test_acc: 0.864\n",
            "\n",
            "===== First Test Sample Prediction =====\n",
            "Actual Sentiment: negative\n",
            "Predicted Sentiment: negative\n",
            "Confidence: 0.960\n",
            "Text: 1 1 1 689 1 11169 111 1 1 612 1 1 288 1 1 10449 1 111 1 1 9610 9264 110 1 707 1 6201 19952 110 1 1 1 4620 1 1 1 1 7067 1 15 1 462 1 1 1 111 10210 1 1 612 1 1 1 363 4052 1 14647 1 1 125 1 918 1 1936 478 1 3366 1 748 1 1 1346 1 1 1667 1 1 111 1 1122 1 1 55 1 818 1 1 1 271 1 1 1109 1 2073 1 1 18 1 1 1 1 25087 15 1 20 1 1 1 245 1 1 14 1 1 1 1 600 442 2702\n",
            "training...: 100%|██████████| 365/365 [00:15<00:00, 24.20it/s]\n",
            "evaluating...: 100%|██████████| 53/53 [00:01<00:00, 33.00it/s]\n",
            "epoch: 5\n",
            "train_loss: 0.222, train_acc: 0.919\n",
            "valid_loss: 0.359, valid_acc: 0.862\n",
            "evaluating...: 100%|██████████| 105/105 [00:03<00:00, 31.88it/s]\n",
            "test_loss: 0.336, test_acc: 0.864\n",
            "\n",
            "===== First Test Sample Prediction =====\n",
            "Actual Sentiment: negative\n",
            "Predicted Sentiment: negative\n",
            "Confidence: 0.960\n",
            "Text: 1 1 1 689 1 11169 111 1 1 612 1 1 288 1 1 10449 1 111 1 1 9610 9264 110 1 707 1 6201 19952 110 1 1 1 4620 1 1 1 1 7067 1 15 1 462 1 1 1 111 10210 1 1 612 1 1 1 363 4052 1 14647 1 1 125 1 918 1 1936 478 1 3366 1 748 1 1 1346 1 1 1667 1 1 111 1 1122 1 1 55 1 818 1 1 1 271 1 1 1109 1 2073 1 1 18 1 1 1 1 25087 15 1 20 1 1 1 245 1 1 14 1 1 1 1 600 442 2702\n"
          ]
        }
      ],
      "source": [
        "\n",
        "org_hyperparams = HyperParams()\n",
        "_ = train_and_test_model_with_hparams(org_hyperparams, \"lstm_1layer_base_adam_e32_h100\")\n"
      ]
    }
  ],
  "metadata": {
    "accelerator": "GPU",
    "colab": {
      "provenance": [],
      "machine_shape": "hm",
      "gpuType": "A100"
    },
    "kernelspec": {
      "display_name": "Python 3",
      "name": "python3"
    },
    "language_info": {
      "codemirror_mode": {
        "name": "ipython",
        "version": 3
      },
      "file_extension": ".py",
      "mimetype": "text/x-python",
      "name": "python",
      "nbconvert_exporter": "python",
      "pygments_lexer": "ipython3",
      "version": "3.10.14"
    }
  },
  "nbformat": 4,
  "nbformat_minor": 0
}